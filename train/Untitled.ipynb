{
 "cells": [
  {
   "cell_type": "code",
   "execution_count": 15,
   "metadata": {},
   "outputs": [
    {
     "ename": "ImportError",
     "evalue": "cannot import name 'angle_error'",
     "output_type": "error",
     "traceback": [
      "\u001b[1;31m---------------------------------------------------------------------------\u001b[0m",
      "\u001b[1;31mImportError\u001b[0m                               Traceback (most recent call last)",
      "\u001b[1;32m<ipython-input-15-7fc9113404ac>\u001b[0m in \u001b[0;36m<module>\u001b[1;34m()\u001b[0m\n\u001b[0;32m     10\u001b[0m \u001b[1;32mfrom\u001b[0m \u001b[0mkeras\u001b[0m\u001b[1;33m.\u001b[0m\u001b[0mmodels\u001b[0m \u001b[1;32mimport\u001b[0m \u001b[0mModel\u001b[0m\u001b[1;33m\u001b[0m\u001b[0m\n\u001b[0;32m     11\u001b[0m \u001b[1;33m\u001b[0m\u001b[0m\n\u001b[1;32m---> 12\u001b[1;33m \u001b[1;32mfrom\u001b[0m \u001b[0mutils\u001b[0m \u001b[1;32mimport\u001b[0m \u001b[0mangle_error\u001b[0m\u001b[1;33m,\u001b[0m \u001b[0mRotNetDataGenerator\u001b[0m\u001b[1;33m,\u001b[0m \u001b[0mbinarize_images\u001b[0m\u001b[1;33m\u001b[0m\u001b[0m\n\u001b[0m\u001b[0;32m     13\u001b[0m \u001b[1;33m\u001b[0m\u001b[0m\n\u001b[0;32m     14\u001b[0m \u001b[1;31m#sys.path.append(os.path.dirname(os.path.dirname(os.path.abspath(__file__))))\u001b[0m\u001b[1;33m\u001b[0m\u001b[1;33m\u001b[0m\u001b[0m\n",
      "\u001b[1;31mImportError\u001b[0m: cannot import name 'angle_error'"
     ]
    }
   ],
   "source": [
    "from __future__ import print_function\n",
    "\n",
    "import os\n",
    "import sys\n",
    "\n",
    "from keras.callbacks import ModelCheckpoint, EarlyStopping, TensorBoard\n",
    "from keras.datasets import mnist\n",
    "from keras.layers import Dense, Dropout, Flatten, Input\n",
    "from keras.layers import Conv2D, MaxPooling2D\n",
    "from keras.models import Model\n",
    "\n",
    "from utils import angle_error, RotNetDataGenerator, binarize_images\n",
    "\n",
    "#sys.path.append(os.path.dirname(os.path.dirname(os.path.abspath(__file__))))\n"
   ]
  },
  {
   "cell_type": "code",
   "execution_count": null,
   "metadata": {
    "collapsed": true
   },
   "outputs": [],
   "source": [
    "# we don't need the labels indicating the digit value, so we only load the images\n",
    "(X_train, _), (X_test, _) = mnist.load_data()\n",
    "\n",
    "model_name = 'rotnet_mnist'\n",
    "\n",
    "# number of convolutional filters to use\n",
    "nb_filters = 64\n",
    "# size of pooling area for max pooling\n",
    "pool_size = (2, 2)\n",
    "# convolution kernel size\n",
    "kernel_size = (3, 3)\n",
    "# number of classes\n",
    "nb_classes = 360\n",
    "\n",
    "nb_train_samples, img_rows, img_cols = X_train.shape\n",
    "img_channels = 1\n",
    "input_shape = (img_rows, img_cols, img_channels)\n",
    "nb_test_samples = X_test.shape[0]\n",
    "\n",
    "print('Input shape:', input_shape)\n",
    "print(nb_train_samples, 'train samples')\n",
    "print(nb_test_samples, 'test samples')\n",
    "\n",
    "# model definition\n",
    "input = Input(shape=(img_rows, img_cols, img_channels))\n",
    "x = Conv2D(nb_filters, kernel_size, activation='relu')(input)\n",
    "x = Conv2D(nb_filters, kernel_size, activation='relu')(x)\n",
    "x = MaxPooling2D(pool_size=(2, 2))(x)\n",
    "x = Dropout(0.25)(x)\n",
    "x = Flatten()(x)\n",
    "x = Dense(128, activation='relu')(x)\n",
    "x = Dropout(0.25)(x)\n",
    "x = Dense(nb_classes, activation='softmax')(x)\n",
    "\n",
    "model = Model(inputs=input, outputs=x)\n",
    "\n",
    "model.summary()\n",
    "\n",
    "# model compilation\n",
    "model.compile(loss='categorical_crossentropy',\n",
    "              optimizer='adam',\n",
    "              metrics=[angle_error])\n",
    "\n",
    "# training parameters\n",
    "batch_size = 128\n",
    "nb_epoch = 50\n",
    "\n",
    "output_folder = 'models'\n",
    "if not os.path.exists(output_folder):\n",
    "    os.makedirs(output_folder)\n",
    "\n",
    "# callbacks\n",
    "checkpointer = ModelCheckpoint(\n",
    "    filepath=os.path.join(output_folder, model_name + '.hdf5'),\n",
    "    save_best_only=True\n",
    ")\n",
    "early_stopping = EarlyStopping(patience=2)\n",
    "tensorboard = TensorBoard()\n",
    "\n",
    "# training loop\n",
    "model.fit_generator(\n",
    "    RotNetDataGenerator(\n",
    "        X_train,\n",
    "        batch_size=batch_size,\n",
    "        preprocess_func=binarize_images,\n",
    "        shuffle=True\n",
    "    ),\n",
    "    steps_per_epoch=nb_train_samples / batch_size,\n",
    "    epochs=nb_epoch,\n",
    "    validation_data=RotNetDataGenerator(\n",
    "        X_test,\n",
    "        batch_size=batch_size,\n",
    "        preprocess_func=binarize_images\n",
    "    ),\n",
    "    validation_steps=nb_test_samples / batch_size,\n",
    "    verbose=1,\n",
    "    callbacks=[checkpointer, early_stopping, tensorboard]\n",
    ")"
   ]
  }
 ],
 "metadata": {
  "kernelspec": {
   "display_name": "Python 3",
   "language": "python",
   "name": "python3"
  },
  "language_info": {
   "codemirror_mode": {
    "name": "ipython",
    "version": 3
   },
   "file_extension": ".py",
   "mimetype": "text/x-python",
   "name": "python",
   "nbconvert_exporter": "python",
   "pygments_lexer": "ipython3",
   "version": "3.5.4"
  }
 },
 "nbformat": 4,
 "nbformat_minor": 2
}
